{
 "cells": [
  {
   "cell_type": "markdown",
   "metadata": {},
   "source": [
    "# python 之路"
   ]
  },
  {
   "cell_type": "code",
   "execution_count": 1,
   "metadata": {},
   "outputs": [
    {
     "name": "stdout",
     "output_type": "stream",
     "text": [
      "hallo_world\n"
     ]
    }
   ],
   "source": [
    "print(\"hallo_world\")"
   ]
  },
  {
   "cell_type": "markdown",
   "metadata": {},
   "source": [
    "[python](https://python.org)是以种**解释型**语言（无需编译等等）\n",
    "\n",
    "python的基本语法如下"
   ]
  },
  {
   "cell_type": "code",
   "execution_count": 4,
   "metadata": {},
   "outputs": [
    {
     "name": "stdout",
     "output_type": "stream",
     "text": [
      "KING of AI19198101141919810514 "
     ]
    },
    {
     "data": {
      "text/plain": [
       "'\\nprint函数的用法\\n自己调试尝试\\n'"
      ]
     },
     "execution_count": 4,
     "metadata": {},
     "output_type": "execute_result"
    }
   ],
   "source": [
    "# 这是注释，解释器不会理会\n",
    "\n",
    "import sys # 语句的使用\n",
    "\n",
    "print(\n",
    "    #函数写下他的名字后打上括号\n",
    "    \"KING of AI\",#直接填入内容\n",
    "    flush = True,#名称后填入值\n",
    "    *[114,514], # 解包1\n",
    "    **{\"end\":\" \",\"sep\":\"1919810\"} #解包2\n",
    ")\n",
    "'''\n",
    "print函数的用法\n",
    "自己调试尝试\n",
    "'''"
   ]
  }
 ],
 "metadata": {
  "kernelspec": {
   "display_name": "Python 3",
   "language": "python",
   "name": "python3"
  },
  "language_info": {
   "codemirror_mode": {
    "name": "ipython",
    "version": 3
   },
   "file_extension": ".py",
   "mimetype": "text/x-python",
   "name": "python",
   "nbconvert_exporter": "python",
   "pygments_lexer": "ipython3",
   "version": "3.11.2"
  }
 },
 "nbformat": 4,
 "nbformat_minor": 2
}
